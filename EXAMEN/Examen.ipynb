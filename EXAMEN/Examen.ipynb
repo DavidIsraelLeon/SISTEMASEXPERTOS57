{
 "cells": [
  {
   "cell_type": "code",
   "execution_count": null,
   "metadata": {},
   "outputs": [],
   "source": [
    "#Aqui estamos importando lo que seria los modulos para la ejecucion de clips \n",
    "from clips import Environment,Symbol\n",
    "environment=Environment()\n"
   ]
  },
  {
   "cell_type": "code",
   "execution_count": null,
   "metadata": {},
   "outputs": [],
   "source": [
    "#Aqui estamos  importando nuestro archivo .clp para que pueda cargar todos los datos\n",
    "environment.load(\"davidexamen.clp\")"
   ]
  },
  {
   "cell_type": "code",
   "execution_count": null,
   "metadata": {},
   "outputs": [],
   "source": [
    "#Aqui mandamos a correr nuestro programa\n",
    "environment.reset()\n",
    "environment.run()\n"
   ]
  },
  {
   "cell_type": "code",
   "execution_count": null,
   "metadata": {},
   "outputs": [],
   "source": [
    "#En este for mandamos a recorrer todos nuestros facts\n",
    "for fact in environment.facts():\n",
    "    print(fact)"
   ]
  },
  {
   "cell_type": "code",
   "execution_count": null,
   "metadata": {},
   "outputs": [],
   "source": [
    "#Aqui mandamos un input para podamos ingresar nuestros hechos iniciales\n",
    "defecto=input(\"Ingrese el problema de la planta\")\n",
    "factplanta='('+ defecto+')'\n",
    "fac_planta=environment.assert_string(factplanta)"
   ]
  },
  {
   "cell_type": "code",
   "execution_count": null,
   "metadata": {},
   "outputs": [],
   "source": [
    "#Aqui mandamos a recorrer nuevamente nuestros hechos con los que hemos colocado\n",
    "environment.run()\n",
    "for fact in environment.facts():\n",
    "    print (fact)"
   ]
  },
  {
   "cell_type": "code",
   "execution_count": null,
   "metadata": {},
   "outputs": [],
   "source": []
  },
  {
   "cell_type": "code",
   "execution_count": null,
   "metadata": {},
   "outputs": [],
   "source": []
  },
  {
   "cell_type": "code",
   "execution_count": null,
   "metadata": {},
   "outputs": [],
   "source": []
  },
  {
   "cell_type": "code",
   "execution_count": null,
   "metadata": {},
   "outputs": [],
   "source": []
  }
 ],
 "metadata": {
  "kernelspec": {
   "display_name": "Python 3",
   "language": "python",
   "name": "python3"
  },
  "language_info": {
   "codemirror_mode": {
    "name": "ipython",
    "version": 3
   },
   "file_extension": ".py",
   "mimetype": "text/x-python",
   "name": "python",
   "nbconvert_exporter": "python",
   "pygments_lexer": "ipython3",
   "version": "3.7.4"
  }
 },
 "nbformat": 4,
 "nbformat_minor": 2
}
